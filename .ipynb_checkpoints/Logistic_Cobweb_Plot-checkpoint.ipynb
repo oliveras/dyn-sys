{
 "cells": [
  {
   "cell_type": "markdown",
   "metadata": {},
   "source": [
    "#Cobweb Plot for the Logistic Curve\n",
    "##Math 3910 - 01: Dynamical Systems\n",
    "###Seattle University, Katie Oliveras"
   ]
  },
  {
   "cell_type": "markdown",
   "metadata": {},
   "source": [
    "In this notebook, we would like to draw the cobweb plot of the logistic map given by $$x_{k+1} = r x_k (1-x_k),$$ where $x_0\\in\\left[0,1\\right)$ and $r \\in \\left(0,4\\right)$."
   ]
  },
  {
   "cell_type": "markdown",
   "metadata": {},
   "source": [
    "###Initialize iPython\n",
    "In the next code block, we import the appropriate iPython libraries"
   ]
  },
  {
   "cell_type": "code",
   "execution_count": 1,
   "metadata": {
    "collapsed": false
   },
   "outputs": [
    {
     "name": "stderr",
     "output_type": "stream",
     "text": [
      ":0: FutureWarning: IPython widgets are experimental and may change in the future.\n"
     ]
    }
   ],
   "source": [
    "from pylab import *\n",
    "from numpy import *\n",
    "from IPython.html.widgets import *\n",
    "\n",
    "%matplotlib inline"
   ]
  },
  {
   "cell_type": "markdown",
   "metadata": {},
   "source": [
    "Now that we have initialized the code, let's define the logistic map $f(x) = rx(1-x)$.  Since we would also like to vary the parameter $r$, it might be handy to also inlcude $r$ as an input parameter.  \n",
    "\n",
    "In the following, we define the function $$f(x,r) = r x(1-x).$$"
   ]
  },
  {
   "cell_type": "code",
   "execution_count": 2,
   "metadata": {
    "collapsed": false
   },
   "outputs": [],
   "source": [
    "def f(x,r):\n",
    "  return r*x*(1-x)"
   ]
  },
  {
   "cell_type": "markdown",
   "metadata": {},
   "source": [
    "Now that we have the function $f$ defined, let's define an iterator that will take as an input the following:\n",
    "<ul>\n",
    "<li>the parameter $r$ for the logistic equation,</li>\n",
    "<li>the initial condition $x_0$, </li>\n",
    "<li> and the total number of iterations $N$.</li>\n",
    "</ul>"
   ]
  },
  {
   "cell_type": "markdown",
   "metadata": {},
   "source": [
    "###Create the Cobweb plot"
   ]
  },
  {
   "cell_type": "code",
   "execution_count": 3,
   "metadata": {
    "collapsed": false
   },
   "outputs": [],
   "source": [
    "def cobweb(r,x0,N):\n",
    "    xk = [x0] \n",
    "    yk = [0]\n",
    "    for k in range(1,(2*N)):\n",
    "        if k % 2 == 0:\n",
    "            xk.append(yk[k-1])\n",
    "            yk.append(yk[k-1])\n",
    "        else:\n",
    "            xk.append(xk[k-1])\n",
    "            yk.append(f(xk[k-1],r))\n",
    "    return xk,yk"
   ]
  },
  {
   "cell_type": "markdown",
   "metadata": {},
   "source": [
    "Now, with all of the items in place, we will set the inital conditions, run the iteration, and then create an interactive widget that allows us to visualize the cobweb plot"
   ]
  },
  {
   "cell_type": "code",
   "execution_count": 4,
   "metadata": {
    "collapsed": false
   },
   "outputs": [
    {
     "data": {
      "image/png": "[encoded data removed]",
      "text/plain": [
       "<matplotlib.figure.Figure at 0xa53e278>"
      ]
     },
     "metadata": {},
     "output_type": "display_data"
    }
   ],
   "source": [
    "r = 2.5\n",
    "x0 = .8\n",
    "numIterations = 100\n",
    "xk,yk = cobweb(r,x0,numIterations)\n",
    "xk2,yk2 = cobweb(r,x0+.1,numIterations)\n",
    "x = linspace(0,1,100)\n",
    "y = f(x,r)\n",
    "\n",
    "def plotCobweb(iteration):\n",
    "    plot(xk[0:2*iteration],yk[0:2*iteration],'r--',linewidth=2)\n",
    "    plot(xk[2*iteration-1],yk[2*iteration-1],'ro')\n",
    "    plot(xk2[0:2*iteration],yk2[0:2*iteration],'b--',linewidth=2)\n",
    "    plot(xk2[2*iteration-1],yk2[2*iteration-1],'bo')\n",
    "    plot(x,y,'k',linewidth=2)\n",
    "    plot(x,x,'k',linewidth=2)\n",
    "    xlabel('$x$',fontsize=20)\n",
    "\n",
    "    \n",
    "interact(plotCobweb,iteration=(1,numIterations,1));"
   ]
  },
  {
   "cell_type": "code",
   "execution_count": null,
   "metadata": {
    "collapsed": true
   },
   "outputs": [],
   "source": []
  }
 ],
 "metadata": {
  "kernelspec": {
   "display_name": "Python 2",
   "language": "python",
   "name": "python2"
  },
  "language_info": {
   "codemirror_mode": {
    "name": "ipython",
    "version": 2
   },
   "file_extension": ".py",
   "mimetype": "text/x-python",
   "name": "python",
   "nbconvert_exporter": "python",
   "pygments_lexer": "ipython2",
   "version": "2.7.6"
  }
 },
 "nbformat": 4,
 "nbformat_minor": 0
}
